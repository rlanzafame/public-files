{
  "nbformat": 4,
  "nbformat_minor": 5,
  "metadata": {
    "kernelspec": {
      "display_name": "Python 3",
      "language": "python",
      "name": "python3"
    },
    "language_info": {
      "codemirror_mode": {
        "name": "ipython",
        "version": 3
      },
      "file_extension": ".py",
      "mimetype": "text/x-python",
      "name": "python",
      "nbconvert_exporter": "python",
      "pygments_lexer": "ipython3",
      "version": "3.7.6"
    },
    "colab": {
      "name": "Reliability Overtopping Exercise_Notebook_Sophie.ipynb",
      "provenance": [],
      "collapsed_sections": []
    }
  },
  "cells": [
    {
      "cell_type": "markdown",
      "metadata": {
        "id": "comfortable-carroll"
      },
      "source": [
        "<h1 style=\"color:#00BFFF;\">Exercise 1</h1>\n",
        "<hr style=\"height:2px;border:none;color:#333;\" />\n",
        "\n",
        "<h2 style=\"color:#00BFFF;\">Reliability Overtopping Exercise</h2>\n",
        "\n",
        "# Index\n",
        "\n",
        "---\n",
        "[Introduction](#Introduction)    \n",
        "[Loading data](#Loading-in-some-basic-packages-for-calculations-and-operations)   \n",
        "[Parameters](#Parameters)    \n",
        "[1.1 The Bretschneider equations](#The-Brestchneider-equations)\n",
        "\n",
        "[1.2 The Iribarren parameter](#The-Iribarren-parameter)\n"
      ],
      "id": "comfortable-carroll"
    },
    {
      "cell_type": "markdown",
      "metadata": {
        "id": "OqJY-D9qdGId"
      },
      "source": [
        "#<h3 style=\"color:#00BFFF;\">Introduction</h3>\n",
        "<hr style=\"height:1.5px;border:none;color:#333;\" />\n",
        "*This is an optional exercise to check your understanding. Upon completion\n",
        "of the exercise, please enter your answers into the attached Excel file to submit it for grading. A complete\n",
        "solution will not be posted, instead you will use the Excel feedback sheet check your work.*\n",
        "\n",
        "\n",
        "The goals of the first assignment are to:\n",
        "\n",
        "* (re-)familiarise with Python exercises, \n",
        "* check your understanding of reliability analysis and waves/overtopping,\n",
        "* introducing the realiability software (the Probabilistic Toolkit or OpenTURNS) \n",
        "\n",
        "Please read Chapters 4 and 5 of the lecture notes and the corresponding lecture before working on this notebook.\n",
        "\n",
        "The overtopping manual can provide extra backround information on wave characterstics (chapter 1.4 - 1.4.3) and the overtopping equation (chapter 5.3.1); http://www.overtopping-manual.com/ \n"
      ],
      "id": "OqJY-D9qdGId"
    },
    {
      "cell_type": "markdown",
      "metadata": {
        "id": "qVk2Q31EZEFZ"
      },
      "source": [
        "<h3 style=\"color:#00BFFF;\">Loading in some basic packages for calculations and operations</h3>\n",
        "<hr style=\"height:1.5px;border:none;color:#333;\" /> "
      ],
      "id": "qVk2Q31EZEFZ"
    },
    {
      "cell_type": "markdown",
      "metadata": {
        "id": "4BZ_zzGiZOZp"
      },
      "source": [
        "Click on the cell below and hit shift-enter to import the packages needed for this assignment."
      ],
      "id": "4BZ_zzGiZOZp"
    },
    {
      "cell_type": "code",
      "metadata": {
        "id": "pursuant-yellow"
      },
      "source": [
        "import numpy as np                   #importing numpy package for scientific computing\n",
        "#import openturns as ot              #importing when using OpenTURNS \n",
        "#import openturns.viewer as viewer   #importing when using OpenTURNS\n",
        "from matplotlib import pylab as plt  #importing matplotlib package for plots\n",
        "#ot.Log.Show(ot.Log.NONE)            #to suppress all warnings when using OpenTURNS\n",
        "import time                          #represents time-based objects\n",
        "from tabulate import tabulate        #used to print tabular data in nicely formatted tables\n",
        "import scipy.stats as scstats        #importing statistics functions\n",
        "%matplotlib inline                   "
      ],
      "id": "pursuant-yellow",
      "execution_count": null,
      "outputs": []
    },
    {
      "cell_type": "markdown",
      "metadata": {
        "id": "Tpv1oeocWKJl"
      },
      "source": [
        "#<h2 style=\"color:#00BFFF;\">Parameters</h2>\n",
        "<hr style=\"height:1.5px;border:none;color:#333;\" />\n",
        "All elevations are referenced to an arbitrary datum\n",
        "\n",
        "* Coastal dike with simple cross section (no berm, foreshore irregularities, etc.);\n",
        "* Design still water level: +7.0 m;\n",
        "* Wind speed 30 m/s (measured at 10 meter elevation) with a fetch of 100 kilometers;\n",
        "* Crest level: +14 m;\n",
        "* Bottom level of the sea: –30.0 m;\n",
        "* Outer slope is 1:5;\n",
        "* Consider only 1 wind direction (perpendicular to the dike) and ignore all other effects like berms,\n",
        "walls, wind-setup and overflow.\n",
        "\n"
      ],
      "id": "Tpv1oeocWKJl"
    },
    {
      "cell_type": "markdown",
      "metadata": {
        "id": "ZcYd8ZXcZtpO"
      },
      "source": [
        "Below you can find all the given parameters that will be used in this assignment."
      ],
      "id": "ZcYd8ZXcZtpO"
    },
    {
      "cell_type": "code",
      "metadata": {
        "id": "medieval-printing"
      },
      "source": [
        "design_water_level = 7\n",
        "wind_speed = 30   \n",
        "fetch = 100*1000   \n",
        "crest_level = 14\n",
        "bottom_level = -30\n",
        "outer_slope = 1/5"
      ],
      "id": "medieval-printing",
      "execution_count": null,
      "outputs": []
    },
    {
      "cell_type": "markdown",
      "metadata": {
        "id": "k1eKr3gZhHul"
      },
      "source": [
        "The most important parameter for an overflow calculation is the freeboard of a dike, $R_{c}$ , defined as the difference between the crest elevation of a dike and the still water level. Thus, the freeboard is defined as positive\n",
        "when the still water level is below the crest and negative when the still water level is above the crest. The water depth $d$ is defined as as the difference between the design water level and the bottom level. "
      ],
      "id": "k1eKr3gZhHul"
    },
    {
      "cell_type": "code",
      "metadata": {
        "id": "hungry-murray"
      },
      "source": [
        "freeboard = crest_level - design_water_level\n",
        "water_depth = design_water_level - bottom_level\n",
        "\n",
        "#print(freeboard)\n",
        "#print(water_depth)"
      ],
      "id": "hungry-murray",
      "execution_count": null,
      "outputs": []
    },
    {
      "cell_type": "markdown",
      "metadata": {
        "id": "kIxDtSTWV7Do"
      },
      "source": [
        "#<h2 style=\"color:#00BFFF;\">1.1 The Bretschneider equations\n",
        "\n",
        "\n",
        "</h2>\n",
        "<hr style=\"height:1.5px;border:none;color:#333;\" />\n",
        "\n",
        "The significant wave height and significant wave period can be\n",
        "estimated from wind speed using predictive equations calibrated with large data sets as done by Sverdrup, Munk and Bretschneider. In the Netherlands, these equations are referred to as the ‘Bretschneider equations’ and have been used in the design of flood defences for decades, although the parameters for these empirical equations have been repeatedly updated as new data becomes available. One version of these equations are given below as a function of wind speed, water depth and fetch:"
      ],
      "id": "kIxDtSTWV7Do"
    },
    {
      "cell_type": "markdown",
      "metadata": {
        "id": "kRlCu8zbcGL8"
      },
      "source": [
        "\n",
        "$$\n",
        "\\tilde{H}=0.283 \\tanh \\left(0.530 \\tilde{d}^{0.75}\\right) \\tanh \\left(\\frac{0.0125 \\tilde{F}^{0.42}}{\\tanh \\left(0.530 \\tilde{d}^{0.75}\\right)}\\right)\\tag{1}\n",
        "$$ \n",
        "$$\n",
        "\\tilde{T}=2.4 \\pi \\tanh \\left(0.833 \\tilde{d}^{0.375}\\right) \\tanh \\left(\\frac{0.077 \\tilde{F}^{0.25}}{\\tanh \\left(0.833 \\tilde{d}^{0.375}\\right)}\\right)\\tag{2}\n",
        "$$ \n",
        "\n"
      ],
      "id": "kRlCu8zbcGL8"
    },
    {
      "cell_type": "markdown",
      "metadata": {
        "id": "2hce_CDTdiSB"
      },
      "source": [
        "Where $\\tilde{H}$ , $\\tilde{d}$, $\\tilde{F}$ and $\\tilde{T}$ are dimensionless coefficients:\n"
      ],
      "id": "2hce_CDTdiSB"
    },
    {
      "cell_type": "markdown",
      "metadata": {
        "id": "hyEwGD7keal9"
      },
      "source": [
        "$$\n",
        "\\tilde{H}=\\frac{H_{s} g}{u_{10}^{2}}, \\quad \\tilde{d}=\\frac{d g}{u_{10}^{2}},  \\quad \\tilde{F}=\\frac{F g}{u_{10}^{2}}, \\quad \\tilde{T}=\\frac{T_{s} g}{u_{10}} \\tag{3}\n",
        "$$\n"
      ],
      "id": "hyEwGD7keal9"
    },
    {
      "cell_type": "markdown",
      "metadata": {
        "id": "_EgCdBSifSEb"
      },
      "source": [
        "**<h3 style=\"color:#00BFFF;\">Q1. Use the Bretschneider equations to calculate the significant wave height $H_{s}$ and significant wave\n",
        "period $T_{s}$</h3>**\n",
        "<hr style=\"height:1.5px;border:none;color:#333;\" /> "
      ],
      "id": "_EgCdBSifSEb"
    },
    {
      "cell_type": "markdown",
      "metadata": {
        "id": "typical-level"
      },
      "source": [
        "Define the Bretschneider equations."
      ],
      "id": "typical-level"
    },
    {
      "cell_type": "code",
      "metadata": {
        "id": "electronic-aviation",
        "colab": {
          "base_uri": "https://localhost:8080/"
        },
        "outputId": "eb3b45b1-3458-48bc-befd-960e90d53019"
      },
      "source": [
        "#1. Calculation of dimensionless water depth, dimensionless fetch, dimensionless wave height and dimensionless wave period\n",
        "\n",
        "def bretschneider_dimensionless(water_depth,fetch,wind_speed):\n",
        "    gravity = 9.81\n",
        "    dimensionless_depth = water_depth*gravity/(wind_speed**2)\n",
        "    dimensionless_fetch = fetch*gravity/(wind_speed**2)\n",
        "    dimensionless_wave_height = (\n",
        "        0.283*np.tanh(0.530*dimensionless_depth**0.75)\n",
        "        *np.tanh(0.0125*dimensionless_fetch**0.42\n",
        "                 /np.tanh(0.530*dimensionless_depth**0.75)\n",
        "                 )\n",
        "        )\n",
        "    dimensionless_wave_period = (\n",
        "        2.4*3.14159*np.tanh(0.833*dimensionless_depth**0.375)\n",
        "        *np.tanh(0.077*dimensionless_fetch**0.25\n",
        "                 /np.tanh(0.833*dimensionless_depth**0.375)\n",
        "                 )\n",
        "        )\n",
        "    return dimensionless_wave_height,dimensionless_wave_period\n",
        "\n",
        "print('dimensionless wave height=', bretschneider_dimensionless(water_depth,fetch,wind_speed)[0].round(2))\n",
        "print('dimensionless wave period=', bretschneider_dimensionless(water_depth,fetch,wind_speed)[1].round(2))\n",
        "\n",
        "#2. Calculation of significant wave height\n",
        "\n",
        "def bretschneider_wave_height(water_depth,fetch,wind_speed):\n",
        "    gravity = 9.81\n",
        "    dimensionless_wave_height = (\n",
        "        bretschneider_dimensionless(water_depth,fetch,wind_speed)[0]\n",
        "        )\n",
        "    significant_wave_height = (\n",
        "        dimensionless_wave_height*(wind_speed**2)/gravity\n",
        "        )\n",
        "    return significant_wave_height\n",
        "\n",
        "print('significant wave height=',  bretschneider_wave_height(water_depth,fetch,wind_speed).round(2), 'm')\n",
        "\n",
        "#3. Calculation of significant wave period\n",
        "\n",
        "def bretschneider_wave_period(water_depth,fetch,wind_speed):\n",
        "    gravity = 9.81\n",
        "    dimensionless_wave_period = (\n",
        "        bretschneider_dimensionless(water_depth,fetch,wind_speed)[1]\n",
        "        )\n",
        "    significant_wave_period = (\n",
        "        dimensionless_wave_period*wind_speed/gravity\n",
        "        )\n",
        "    return significant_wave_period\n",
        "\n",
        "print('siginificant wave period=', bretschneider_wave_period(water_depth,fetch,wind_speed).round(2), 's')"
      ],
      "id": "electronic-aviation",
      "execution_count": null,
      "outputs": [
        {
          "output_type": "stream",
          "name": "stdout",
          "text": [
            "dimensionless wave height= 0.05\n",
            "dimensionless wave period= 2.73\n",
            "significant wave height= 4.87 m\n",
            "siginificant wave period= 8.36 s\n"
          ]
        }
      ]
    },
    {
      "cell_type": "code",
      "metadata": {
        "colab": {
          "base_uri": "https://localhost:8080/"
        },
        "id": "magnetic-rapid",
        "outputId": "afc43424-3e94-4772-be32-d85a859b1f44"
      },
      "source": [
        "wave_height = bretschneider_wave_height(water_depth,fetch,wind_speed)\n",
        "wave_period = bretschneider_wave_period(water_depth,fetch,wind_speed)\n",
        "print('Q1: the significant wave height and period are {0:.2f} m '\n",
        "      'and {1:.2f} s.'.format(wave_height,wave_period)\n",
        "      )"
      ],
      "id": "magnetic-rapid",
      "execution_count": null,
      "outputs": [
        {
          "output_type": "stream",
          "name": "stdout",
          "text": [
            "Q1: the significant wave height and period are 4.87 m and 8.36 s.\n"
          ]
        }
      ]
    },
    {
      "cell_type": "markdown",
      "metadata": {
        "id": "SNt21A5zntBr"
      },
      "source": [
        "#<h2 style=\"color:#00BFFF;\">1.2 The Iribarren parameter\n",
        "\n",
        "\n",
        "</h2>\n",
        "<hr style=\"height:1.5px;border:none;color:#333;\" />\n",
        "\n",
        "Both run-up and overtopping depend strongly on whether or not the waves break onto the slope of the\n",
        "structure. This can be described by the Iribarren parameter (also called surf similarity or breaker parameter).\n"
      ],
      "id": "SNt21A5zntBr"
    },
    {
      "cell_type": "markdown",
      "metadata": {
        "id": "indq4AuZqwk8"
      },
      "source": [
        "$$\n",
        "\\xi_{m-1,0}=\\tan \\alpha / \\sqrt{H_{m 0} / L_{m-1,0}} \\tag{4}\n",
        "$$ \n"
      ],
      "id": "indq4AuZqwk8"
    },
    {
      "cell_type": "markdown",
      "metadata": {
        "id": "aiOQ6rJQq1m9"
      },
      "source": [
        "The Iribarren parameter relates wave steepness to the slope of a beach (or levee slope). In this case $H_{m 0}$ refers to the (spectral) significant wave height at the location of wave breaking. $H_{m 0}$ equals the significant wave height $H_{s}$, but is used when working with spectra. The significant wave height $H_{s}$ corresponds to the mean of the third of\n",
        "the highest observed waves and is broadly used as the characteristic value for the wave height. The corresponding significant wave period $T_{s}$ is less frequently used. More common is the usage of $T_{m-1,0}$ or $T_{p}$ which again can be obtained from wave spectra analysis. As a rule of thumb, the following relationships can be used:"
      ],
      "id": "aiOQ6rJQq1m9"
    },
    {
      "cell_type": "markdown",
      "metadata": {
        "id": "zrHne0DutHVn"
      },
      "source": [
        "$$\n",
        "T_{p}=1.08 * T_{s}=1.1 * T_{m,-1,0} \\tag{5}\n",
        "$$"
      ],
      "id": "zrHne0DutHVn"
    },
    {
      "cell_type": "markdown",
      "metadata": {
        "id": "qstzpxzJuCBe"
      },
      "source": [
        "Wave steepness is a useful way of evaluating wave characteristics and is defined as the ratio of a characteristic\n",
        "wave height to a characteristic wave length, $s_{0p} = H_{m0}/L_{m-1,0}$. Swell seas will have a steepness of around 0.01,\n",
        "whereas a typical wind sea 0.04 to 0.06 "
      ],
      "id": "qstzpxzJuCBe"
    },
    {
      "cell_type": "markdown",
      "metadata": {
        "id": "GYrrr87ItZgG"
      },
      "source": [
        "\n",
        "The wave length $L_{m-1,0}$, equals:"
      ],
      "id": "GYrrr87ItZgG"
    },
    {
      "cell_type": "markdown",
      "metadata": {
        "id": "6VUdgHpnq2qY"
      },
      "source": [
        "$$L_{m-1,0}=\n",
        "g T_{m-1,0}^{2} /(2 \\pi) \\tag{6}\n",
        "$$"
      ],
      "id": "6VUdgHpnq2qY"
    },
    {
      "cell_type": "markdown",
      "metadata": {
        "id": "pTEaqI2FrOBE"
      },
      "source": [
        "For small values of the Iribarren parameter (roughly $ξ$ < 2) the waves will form spilling or plunging\n",
        "breakers on the slope. For larger values of $ξ$ the waves will not break, but rather surge onto the slope. The\n",
        "resulting behaviour for both run-up and overtopping is different in these two cases. As a result, the prediction\n",
        "formulas for run-up level and overtopping volumes usually have two different branches to describe these two\n",
        "separate regimes.\n"
      ],
      "id": "pTEaqI2FrOBE"
    },
    {
      "cell_type": "markdown",
      "metadata": {
        "id": "dMGGb0-8udn0"
      },
      "source": [
        "**<h3 style=\"color:#00BFFF;\">Q2. Calculate the wave steepness $s_{m-1,0}$ and Iribarren number $ξ_{m-1,0}$. What breaker type would you\n",
        "expect?**\n",
        "<hr style=\"height:1.5px;border:none;color:#333;\" /> "
      ],
      "id": "dMGGb0-8udn0"
    },
    {
      "cell_type": "markdown",
      "metadata": {
        "id": "TAvarFOtvI1r"
      },
      "source": [
        "Define the functions."
      ],
      "id": "TAvarFOtvI1r"
    },
    {
      "cell_type": "code",
      "metadata": {
        "id": "weird-vampire"
      },
      "source": [
        "#Defining the functions for wave length, wave steepness and Iribarren number\n",
        "\n",
        "def get_wave_length(wave_period):\n",
        "    wave_length = 9.81*wave_period**2/2/3.14159\n",
        "    return wave_length\n",
        "\n",
        "def get_wave_steepness(wave_height,wave_period):\n",
        "    wave_steepness = wave_height/get_wave_length(wave_period)\n",
        "    return wave_steepness\n",
        "\n",
        "def get_iribarren_number(outer_slope, wave_steepness):\n",
        "    iribarren_number = outer_slope/np.sqrt(wave_steepness)\n",
        "    return iribarren_number"
      ],
      "id": "weird-vampire",
      "execution_count": null,
      "outputs": []
    },
    {
      "cell_type": "code",
      "metadata": {
        "colab": {
          "base_uri": "https://localhost:8080/"
        },
        "id": "forced-comment",
        "outputId": "fbcfe44b-2866-4263-e021-c34edafe694c"
      },
      "source": [
        "#1. Calculating the wave period\n",
        "wave_period = 1.08*bretschneider_wave_period(water_depth,fetch,wind_speed)/1.10\n",
        "\n",
        "#2. Calculating the wave steepness \n",
        "wave_steepness = get_wave_steepness(wave_height,wave_period)\n",
        "\n",
        "#3. Calculating the Iribarren number\n",
        "iribarren_number = get_iribarren_number(outer_slope,wave_steepness)\n",
        "\n",
        "if iribarren_number >= 2:\n",
        "  print('Waves are not breaking; breaker type= surging')\n",
        "if iribarren_number < 2:\n",
        "  print('Waves are breaking; breaker type= spilling or plunging')\n",
        "\n",
        "print('Q2: the wave steepness is {0:.3f} and the Iribarren number is '\n",
        "      '{1:.3f}, \\n    using a spectral wave period of '\n",
        "      '{2:.3f} s and {3:.0f} m wave length.'\n",
        "      .format(wave_steepness,iribarren_number,wave_period,\n",
        "                  get_wave_length(wave_period)\n",
        "                  )\n",
        "              )\n"
      ],
      "id": "forced-comment",
      "execution_count": null,
      "outputs": [
        {
          "output_type": "stream",
          "name": "stdout",
          "text": [
            "Waves are breaking; breaker type= spilling or plunging\n",
            "Q2: the wave steepness is 0.046 and the Iribarren number is 0.929, \n",
            "    using a spectral wave period of 8.205 s and 105 m wave length.\n"
          ]
        }
      ]
    },
    {
      "cell_type": "markdown",
      "metadata": {
        "id": "f_ZfA6lmwrGq"
      },
      "source": [
        "<h2 style=\"color:#00BFFF;\">1.3 The overtopping discharge\n",
        "\n",
        "\n",
        "</h2>\n",
        "<hr style=\"height:1.5px;border:none;color:#333;\" />\n",
        "\n",
        "The theoretical shape of the overtopping formula can be derived\n",
        "from an analysis of regular, breaking waves, and can then be extended to the use in irregular waves. Battjes (1974) found the resulting theoretical expression for the mean overtopping rate and expressed his results as a\n",
        "rather complicated analytical function. However, Battjes’ results are only valid in the breaking wave regime, so for low Iribarren numbers. Like in the case of run-up, practical observations have shown that the overtopping reaches a maximum limit for non-breaking\n",
        "waves (high Iribarren numbers).\n",
        "\n",
        "For use in practice, van der Meer and Bruce (2014) provide a simple approximation of Battjes’ formula, and re-fitted the coefficients for use with $H_{m0}$ and $T{m−1,0}$. Their formula is as follows:\n"
      ],
      "id": "f_ZfA6lmwrGq"
    },
    {
      "cell_type": "markdown",
      "metadata": {
        "id": "KvWiMCvi4UP3"
      },
      "source": [
        "$$\n",
        "\\frac{q}{\\sqrt{g \\cdot H_{m 0}^{3}}}=\\frac{0.023}{\\sqrt{\\tan \\alpha}} \\cdot \\xi_{m-1,0} \\cdot \\exp \\left\\{-\\left(2.7 \\cdot \\frac{R_{c}}{\\xi_{m-1,0} \\cdot H_{m 0}}\\right)^{1.3}\\right\\} \\tag{7}\n",
        "$$"
      ],
      "id": "KvWiMCvi4UP3"
    },
    {
      "cell_type": "markdown",
      "metadata": {
        "id": "7OA-pG7p4vLF"
      },
      "source": [
        "In the non-breaking wave regime there is no longer a theoretical basis for the shape of the formula. We have to rely on observations only, which have shown that for nonbreaking waves the mean overtopping rate reaches a maximum given by:\n"
      ],
      "id": "7OA-pG7p4vLF"
    },
    {
      "cell_type": "markdown",
      "metadata": {
        "id": "c7Q1BAUv4ytj"
      },
      "source": [
        "$$\n",
        "\\frac{q}{\\sqrt{g \\cdot H_{m 0}^{3}}}=0.09 \\exp \\left\\{-\\left(1.5 \\cdot \\frac{R_{c}}{H_{m 0}}\\right)^{1.3}\\right\\} \\tag{8}\n",
        "$$\n"
      ],
      "id": "c7Q1BAUv4ytj"
    },
    {
      "cell_type": "markdown",
      "metadata": {
        "id": "NtDqouZv3GLc"
      },
      "source": [
        "**<h3 style=\"color:#00BFFF;\">Q3. Compute the overtopping discharge. Assume the dike is covered with grass.**\n",
        "<hr style=\"height:1.5px;border:none;color:#333;\" /> "
      ],
      "id": "NtDqouZv3GLc"
    },
    {
      "cell_type": "markdown",
      "metadata": {
        "id": "neural-keeping"
      },
      "source": [
        "Define the overtopping equation. If the waves are breaking (Irribarren number > 2), there is a need to check the maximum. "
      ],
      "id": "neural-keeping"
    },
    {
      "cell_type": "code",
      "metadata": {
        "id": "young-tunnel"
      },
      "source": [
        "#Defining the overtopping function for calculating the discharge q\n",
        "\n",
        "def get_overtopping(wave_height,wave_period,outer_slope,freeboard,A,B):\n",
        "    irribarren_number= get_iribarren_number(outer_slope, (get_wave_steepness(wave_height,wave_period)))\n",
        "    discharge_cubic_meters = (\n",
        "        np.sqrt(9.81*wave_height**3)*A/np.sqrt(outer_slope)\n",
        "        *iribarren_number*np.exp(\n",
        "            -(B*freeboard/iribarren_number/wave_height)**1.3\n",
        "            )\n",
        "        )\n",
        "    discharge_liters = discharge_cubic_meters*1000\n",
        "    print('overtopping discharge q=', discharge_liters.round(2))\n",
        "    \n",
        "    discharge_cubic_meters_maximum = (\n",
        "        np.sqrt(9.81*wave_height**3)*0.09/np.sqrt(outer_slope)\n",
        "        *iribarren_number*np.exp(\n",
        "            -(1.5*freeboard/iribarren_number/wave_height)**1.3\n",
        "            )\n",
        "        )\n",
        "    discharge_liters_maximum = discharge_cubic_meters_maximum*1000\n",
        "    print('maximum overtopping discharge q=', discharge_liters_maximum.round(2))\n",
        "\n",
        "#     if discharge_cubic_meters > discharge_liters_maximum:\n",
        "#         print('Calculated q is greater than max (but the max value is not used).')\n",
        "\n",
        "    if irribarren_number < 2:\n",
        "      return discharge_liters\n",
        "    if irribarren_number >= 2: \n",
        "      return discharge_liters_maximum\n"
      ],
      "id": "young-tunnel",
      "execution_count": null,
      "outputs": []
    },
    {
      "cell_type": "code",
      "metadata": {
        "colab": {
          "base_uri": "https://localhost:8080/"
        },
        "id": "informed-techno",
        "outputId": "eafdfa43-43d6-406c-8a1f-8e23ac3b1525"
      },
      "source": [
        "print('Q3: the overtopping discharge is {0:.2f} L/m/s.'.format(\n",
        "          get_overtopping(wave_height,wave_period,outer_slope,freeboard,0.023,2.7)\n",
        "          )\n",
        "      )"
      ],
      "id": "informed-techno",
      "execution_count": null,
      "outputs": [
        {
          "output_type": "stream",
          "name": "stdout",
          "text": [
            "overtopping discharge q= 2.64\n",
            "maximum overtopping discharge q= 317.95\n",
            "Q3: the overtopping discharge is 2.64 L/m/s.\n"
          ]
        }
      ]
    },
    {
      "cell_type": "markdown",
      "metadata": {
        "id": "TDUkO_GI3iMh"
      },
      "source": [
        "<h2 style=\"color:#00BFFF;\">1.4 The overtopping discharge using design values\n",
        "\n",
        "\n",
        "</h2>\n",
        "<hr style=\"height:1.5px;border:none;color:#333;\" />\n"
      ],
      "id": "TDUkO_GI3iMh"
    },
    {
      "cell_type": "markdown",
      "metadata": {
        "id": "i4Qa_62L7-nU"
      },
      "source": [
        "According to van der Meer and Bruce (2014) the reliability of the coefficient values is as follows:"
      ],
      "id": "i4Qa_62L7-nU"
    },
    {
      "cell_type": "markdown",
      "metadata": {
        "id": "tMu2YC8D7d7d"
      },
      "source": [
        "| General shape $$\n",
        "\\frac{q}{\\sqrt{g\\cdot H^{3}}}=A(\\ldots) \\exp -B(\\ldots)^{1.3}\n",
        "$$  | Equation 7 $$A$$ | Equation 7 $$B$$ | Equation 8 $$A$$ | Equation 8 $$B$$ |\n",
        "|----------------------|---------|---------|---------|---------|\n",
        "| Mean Value           | 0.023   | 2.7     | 0.09    | 1.5     |\n",
        "| Standard Deviation   | 0.003   | 0.20    | 0.013   | 0.15    |\n",
        "| Characteristic value | 0.026   | 2.5     | 0.1035  | 1.35    |\n",
        "\n"
      ],
      "id": "tMu2YC8D7d7d"
    },
    {
      "cell_type": "markdown",
      "metadata": {
        "id": "5NPvck5O9f_6"
      },
      "source": [
        "Now we will begin to incorporate uncertainty. The Table below shows two parameters that can be represented as random variables. The value to use for design depends on whether the variable is a resistance parameter or a load parameter. The design value of resistance is based on the characteristic value of the resistance, typically a 5% probability of exceedance. The design load is based on the characteristic value of the load, typically a 95% probability of exceedance."
      ],
      "id": "5NPvck5O9f_6"
    },
    {
      "cell_type": "markdown",
      "metadata": {
        "id": "f8H48ezI-lWi"
      },
      "source": [
        "| Variable         | Distribution | Mean  | Standard Deviation | 5% exc. value | 95% exc. value | Value to use for design |\n",
        "|------------------|--------------|-------|--------------------|---------------|----------------|-------------------------|\n",
        "| Crest elevation  | Normal       | 14 m  | 0.1 m              |               |                |                         |\n",
        "| Bottom elevation | Normal       | -30 m | 3 m                |               |                |                         |"
      ],
      "id": "f8H48ezI-lWi"
    },
    {
      "cell_type": "markdown",
      "metadata": {
        "id": "M5K1dnHH3nj0"
      },
      "source": [
        "**<h3 style=\"color:#00BFFF;\">Q4. Recompute the overtopping discharge with the appropriate design values.**\n",
        "<hr style=\"height:1.5px;border:none;color:#333;\" /> \n",
        "\n",
        "Be sure to use the proper values for the coefficients in the overtopping equation (See Table above; Table 5.2 in the lecture notes)"
      ],
      "id": "M5K1dnHH3nj0"
    },
    {
      "cell_type": "code",
      "metadata": {
        "id": "moGdjJQ9TZgc"
      },
      "source": [
        "crest_elevation_5= scstats.norm.ppf(0.05, 14, 0.1)  \n",
        "#print('crest elevation: 5% exceedance value=', crest_elevation_5.round(2), 'm')\n",
        "crest_elevation_95= scstats.norm.ppf(0.95, 14, 0.1)  \n",
        "#print('crest elevation: 95% exceedance value=', crest_elevation_95.round(2), 'm')\n",
        "\n",
        "bottom_elevation_5= scstats.norm.ppf(0.05, -30, 3)  \n",
        "#print('bottom elevation: 5% exceedance value=', bottom_elevation_5.round(2), 'm')\n",
        "bottom_elevation_95= scstats.norm.ppf(0.95, -30, 3)  \n",
        "#print('bottom elevation: 95% exceedance value=', bottom_elevation_95.round(2), 'm')\n",
        "\n",
        "#Determine the design values for the resistance and the load variables\n",
        "design_crest_elevation= crest_elevation_5\n",
        "#print('design value crest elevation=', design_crest_elevation.round(2), 'm')\n",
        "design_bottom_elevation= bottom_elevation_95\n",
        "#print('design value bottom elevation=', design_bottom_elevation.round(2), 'm')"
      ],
      "id": "moGdjJQ9TZgc",
      "execution_count": null,
      "outputs": []
    },
    {
      "cell_type": "code",
      "metadata": {
        "colab": {
          "base_uri": "https://localhost:8080/"
        },
        "id": "BKKWgCacY-az",
        "outputId": "b0ffabe5-be08-42aa-cc02-55afcdc7699e"
      },
      "source": [
        "table = [['Variable', '5% exc. value', '95% exc. value', 'Design value'], ['crest elevation', crest_elevation_5.round(2), crest_elevation_95.round(2), design_crest_elevation.round(2)], \n",
        "         ['bottom elevation', bottom_elevation_5.round(2), bottom_elevation_95.round(2), design_bottom_elevation.round(2)]]\n",
        "print(tabulate(table, headers='firstrow', tablefmt='fancy_grid'))"
      ],
      "id": "BKKWgCacY-az",
      "execution_count": null,
      "outputs": [
        {
          "output_type": "stream",
          "name": "stdout",
          "text": [
            "╒══════════════════╤═════════════════╤══════════════════╤════════════════╕\n",
            "│ Variable         │   5% exc. value │   95% exc. value │   Design value │\n",
            "╞══════════════════╪═════════════════╪══════════════════╪════════════════╡\n",
            "│ crest elevation  │           13.84 │            14.16 │          13.84 │\n",
            "├──────────────────┼─────────────────┼──────────────────┼────────────────┤\n",
            "│ bottom elevation │          -34.93 │           -25.07 │         -25.07 │\n",
            "╘══════════════════╧═════════════════╧══════════════════╧════════════════╛\n"
          ]
        }
      ]
    },
    {
      "cell_type": "code",
      "metadata": {
        "id": "objective-respondent"
      },
      "source": [
        ""
      ],
      "id": "objective-respondent",
      "execution_count": null,
      "outputs": []
    },
    {
      "cell_type": "code",
      "metadata": {
        "id": "eligible-latvia"
      },
      "source": [
        ""
      ],
      "id": "eligible-latvia",
      "execution_count": null,
      "outputs": []
    },
    {
      "cell_type": "code",
      "metadata": {
        "id": "vital-central"
      },
      "source": [
        ""
      ],
      "id": "vital-central",
      "execution_count": null,
      "outputs": []
    },
    {
      "cell_type": "markdown",
      "metadata": {
        "id": "69sGQub7lOQo"
      },
      "source": [
        "<h2 style=\"color:#00BFFF;\">1.5 The Limit State Function\n",
        "\n",
        "\n",
        "</h2>\n",
        "<hr style=\"height:1.5px;border:none;color:#333;\" />"
      ],
      "id": "69sGQub7lOQo"
    },
    {
      "cell_type": "markdown",
      "metadata": {
        "id": "QxM98dNwlljl"
      },
      "source": [
        "**<h3 style=\"color:#00BFFF;\">Q5. Write the limit state function for overtopping.**\n",
        "<hr style=\"height:1.5px;border:none;color:#333;\" /> "
      ],
      "id": "QxM98dNwlljl"
    },
    {
      "cell_type": "markdown",
      "metadata": {
        "id": "listed-enzyme"
      },
      "source": [
        "## Probabilistic calculation\n",
        "\n",
        "First set up the marginal distributions (plot water level), then create the limit-state function and the multivariate probability distribution for use with OT."
      ],
      "id": "listed-enzyme"
    },
    {
      "cell_type": "code",
      "metadata": {
        "id": "gothic-marks"
      },
      "source": [
        ""
      ],
      "id": "gothic-marks",
      "execution_count": null,
      "outputs": []
    },
    {
      "cell_type": "markdown",
      "metadata": {
        "id": "fifteen-coating"
      },
      "source": [
        ""
      ],
      "id": "fifteen-coating"
    }
  ]
}